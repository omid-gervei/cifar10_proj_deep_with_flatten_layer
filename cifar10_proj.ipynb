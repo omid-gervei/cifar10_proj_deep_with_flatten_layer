{
 "cells": [
  {
   "cell_type": "code",
   "execution_count": 1,
   "metadata": {
    "id": "j0BXnDZLiGTZ"
   },
   "outputs": [],
   "source": [
    "import tensorflow as tf"
   ]
  },
  {
   "cell_type": "code",
   "execution_count": 2,
   "metadata": {
    "id": "-nlJ7kM_iLmb"
   },
   "outputs": [],
   "source": [
    "from tensorflow import keras\n",
    "import numpy as np\n",
    "from sklearn.model_selection import train_test_split\n",
    "from sklearn.metrics import accuracy_score\n",
    "from sklearn.metrics import precision_score\n",
    "from sklearn.metrics import recall_score\n",
    "from sklearn.metrics import f1_score\n",
    "from sklearn.metrics import cohen_kappa_score\n",
    "from sklearn.metrics import roc_auc_score"
   ]
  },
  {
   "cell_type": "code",
   "execution_count": 3,
   "metadata": {
    "id": "8e_uAl7SiSvT"
   },
   "outputs": [],
   "source": [
    "(x_train, y_train), (x_test, y_test) = tf.keras.datasets.cifar10.load_data()"
   ]
  },
  {
   "cell_type": "code",
   "execution_count": 4,
   "metadata": {
    "colab": {
     "base_uri": "https://localhost:8080/"
    },
    "id": "Pli_pT9EitjP",
    "outputId": "fa801804-e34a-4784-b70e-4f92d2d05b06"
   },
   "outputs": [
    {
     "data": {
      "text/plain": [
       "(50000, 32, 32, 3)"
      ]
     },
     "execution_count": 4,
     "metadata": {},
     "output_type": "execute_result"
    }
   ],
   "source": [
    "x_train.shape"
   ]
  },
  {
   "cell_type": "code",
   "execution_count": 5,
   "metadata": {
    "colab": {
     "base_uri": "https://localhost:8080/"
    },
    "id": "7jzgFa_Uixci",
    "outputId": "cf4ad5a3-f45a-4dfb-91bb-cabe2726dab3"
   },
   "outputs": [
    {
     "data": {
      "text/plain": [
       "(50000, 1)"
      ]
     },
     "execution_count": 5,
     "metadata": {},
     "output_type": "execute_result"
    }
   ],
   "source": [
    "y_train.shape"
   ]
  },
  {
   "cell_type": "code",
   "execution_count": 6,
   "metadata": {
    "id": "mNODCoUrWPG5"
   },
   "outputs": [],
   "source": [
    "x_train=x_train/255.0\n",
    "x_test=x_test/255.0"
   ]
  },
  {
   "cell_type": "code",
   "execution_count": 7,
   "metadata": {
    "id": "e4KfW8zxPSwY"
   },
   "outputs": [],
   "source": [
    "X = np.concatenate((x_train,x_test))\n",
    "y = np.concatenate((y_train,y_test))"
   ]
  },
  {
   "cell_type": "code",
   "execution_count": 8,
   "metadata": {
    "id": "qCNqFS_9WHzM"
   },
   "outputs": [],
   "source": [
    "X_train, X_test, y_train, y_test = train_test_split(X, y, test_size=9000, random_state=42)"
   ]
  },
  {
   "cell_type": "code",
   "execution_count": 9,
   "metadata": {
    "colab": {
     "base_uri": "https://localhost:8080/"
    },
    "id": "XHsqq6OhVA8K",
    "outputId": "6656f6d6-2591-4363-d16d-3992e4b0c94f"
   },
   "outputs": [
    {
     "name": "stdout",
     "output_type": "stream",
     "text": [
      "(60000, 32, 32, 3)\n"
     ]
    }
   ],
   "source": [
    "print(X.shape)"
   ]
  },
  {
   "cell_type": "code",
   "execution_count": 10,
   "metadata": {
    "colab": {
     "base_uri": "https://localhost:8080/"
    },
    "id": "JrjRqZMricZx",
    "outputId": "7962d838-1bd8-4ebc-a1cf-4044dfa1ef93"
   },
   "outputs": [
    {
     "data": {
      "text/plain": [
       "(51000, 32, 32, 3)"
      ]
     },
     "execution_count": 10,
     "metadata": {},
     "output_type": "execute_result"
    }
   ],
   "source": [
    "X_train.shape"
   ]
  },
  {
   "cell_type": "code",
   "execution_count": 11,
   "metadata": {
    "colab": {
     "base_uri": "https://localhost:8080/"
    },
    "id": "BhystDgYWgJg",
    "outputId": "a461cf5b-d39e-4b3d-856e-1e5fb8f0c80a"
   },
   "outputs": [
    {
     "data": {
      "text/plain": [
       "array([[1],\n",
       "       [9],\n",
       "       [2],\n",
       "       ...,\n",
       "       [3],\n",
       "       [0],\n",
       "       [3]], dtype=uint8)"
      ]
     },
     "execution_count": 11,
     "metadata": {},
     "output_type": "execute_result"
    }
   ],
   "source": [
    "y_test"
   ]
  },
  {
   "cell_type": "code",
   "execution_count": 12,
   "metadata": {
    "colab": {
     "base_uri": "https://localhost:8080/"
    },
    "id": "0dA84Ujd_U-n",
    "outputId": "213b855b-364d-4b19-87c5-1e6b7a406593"
   },
   "outputs": [
    {
     "data": {
      "text/plain": [
       "(9000, 1)"
      ]
     },
     "execution_count": 12,
     "metadata": {},
     "output_type": "execute_result"
    }
   ],
   "source": [
    "y_test.shape"
   ]
  },
  {
   "cell_type": "markdown",
   "metadata": {
    "id": "MO-1CzuIaLqx"
   },
   "source": [
    "If your Yi\n",
    "'s are one-hot encoded, use categorical_crossentropy. Examples (for a 3-class classification): [1,0,0] , [0,1,0], [0,0,1]\n",
    "\n",
    "But if your Yi\n",
    "'s are integers, use sparse_categorical_crossentropy. Examples for above 3-class classification problem: [1] , [2], [3]"
   ]
  },
  {
   "cell_type": "code",
   "execution_count": 13,
   "metadata": {
    "id": "X1xILlQgZEvE"
   },
   "outputs": [],
   "source": [
    "from keras.utils import to_categorical\n",
    "# one hot encode target values\n",
    "y_train = to_categorical(y_train)\n",
    "y_test = to_categorical(y_test)"
   ]
  },
  {
   "cell_type": "code",
   "execution_count": 14,
   "metadata": {
    "colab": {
     "base_uri": "https://localhost:8080/"
    },
    "id": "WMbXe9YecN0a",
    "outputId": "c07444ad-7180-4386-bb6d-4b029985d671"
   },
   "outputs": [
    {
     "name": "stdout",
     "output_type": "stream",
     "text": [
      "[0. 0. 1. 0. 0. 0. 0. 0. 0. 0.]\n"
     ]
    }
   ],
   "source": [
    "\n",
    "print(y_train[100])"
   ]
  },
  {
   "cell_type": "code",
   "execution_count": 15,
   "metadata": {
    "colab": {
     "base_uri": "https://localhost:8080/"
    },
    "id": "t2fjk8N_cwfR",
    "outputId": "127ec305-c6ea-4181-fa00-c112bbe56703"
   },
   "outputs": [
    {
     "name": "stdout",
     "output_type": "stream",
     "text": [
      "[0. 0. 0. 0. 0. 0. 0. 0. 0. 1.]\n"
     ]
    }
   ],
   "source": [
    "print(y_train[10])"
   ]
  },
  {
   "cell_type": "code",
   "execution_count": 16,
   "metadata": {
    "id": "Yns89yS2dDa6"
   },
   "outputs": [],
   "source": [
    "model = keras.models.Sequential([\n",
    "    keras.layers.Flatten(input_shape = [32,32,3]),\n",
    "    keras.layers.Dense(100, activation = \"relu\"),\n",
    "    keras.layers.Dense(80, activation = \"relu\"),\n",
    "    keras.layers.Dense(80, activation = \"selu\"),\n",
    "    keras.layers.Dense(10, activation = \"softmax\")\n",
    "\n",
    "])"
   ]
  },
  {
   "cell_type": "code",
   "execution_count": 17,
   "metadata": {
    "colab": {
     "base_uri": "https://localhost:8080/"
    },
    "id": "dGyekJ-HMIfe",
    "outputId": "8b53f137-7451-4727-b824-91e9b235c75d"
   },
   "outputs": [
    {
     "name": "stdout",
     "output_type": "stream",
     "text": [
      "Model: \"sequential\"\n",
      "_________________________________________________________________\n",
      " Layer (type)                Output Shape              Param #   \n",
      "=================================================================\n",
      " flatten (Flatten)           (None, 3072)              0         \n",
      "                                                                 \n",
      " dense (Dense)               (None, 100)               307300    \n",
      "                                                                 \n",
      " dense_1 (Dense)             (None, 80)                8080      \n",
      "                                                                 \n",
      " dense_2 (Dense)             (None, 80)                6480      \n",
      "                                                                 \n",
      " dense_3 (Dense)             (None, 10)                810       \n",
      "                                                                 \n",
      "=================================================================\n",
      "Total params: 322670 (1.23 MB)\n",
      "Trainable params: 322670 (1.23 MB)\n",
      "Non-trainable params: 0 (0.00 Byte)\n",
      "_________________________________________________________________\n"
     ]
    }
   ],
   "source": [
    "model.summary()"
   ]
  },
  {
   "cell_type": "code",
   "execution_count": 18,
   "metadata": {
    "id": "WzWIB4LQQ8-8"
   },
   "outputs": [],
   "source": [
    "model.compile(loss = \"categorical_crossentropy\",\n",
    "              optimizer = \"sgd\",metrics=['accuracy'])"
   ]
  },
  {
   "cell_type": "code",
   "execution_count": 20,
   "metadata": {
    "colab": {
     "base_uri": "https://localhost:8080/"
    },
    "id": "lIn5IGvhRoex",
    "outputId": "11e80367-14e4-4891-da58-22e85178fcad"
   },
   "outputs": [
    {
     "name": "stdout",
     "output_type": "stream",
     "text": [
      "Epoch 1/50\n",
      "1355/1355 [==============================] - 8s 5ms/step - loss: 1.9069 - accuracy: 0.3123 - val_loss: 1.8129 - val_accuracy: 0.3403\n",
      "Epoch 2/50\n",
      "1355/1355 [==============================] - 8s 6ms/step - loss: 1.7120 - accuracy: 0.3873 - val_loss: 1.7225 - val_accuracy: 0.3763\n",
      "Epoch 3/50\n",
      "1355/1355 [==============================] - 6s 4ms/step - loss: 1.6326 - accuracy: 0.4191 - val_loss: 1.6606 - val_accuracy: 0.4080\n",
      "Epoch 4/50\n",
      "1355/1355 [==============================] - 8s 6ms/step - loss: 1.5829 - accuracy: 0.4349 - val_loss: 1.5979 - val_accuracy: 0.4259\n",
      "Epoch 5/50\n",
      "1355/1355 [==============================] - 7s 5ms/step - loss: 1.5369 - accuracy: 0.4510 - val_loss: 1.5547 - val_accuracy: 0.4403\n",
      "Epoch 6/50\n",
      "1355/1355 [==============================] - 7s 5ms/step - loss: 1.5087 - accuracy: 0.4603 - val_loss: 1.5372 - val_accuracy: 0.4490\n",
      "Epoch 7/50\n",
      "1355/1355 [==============================] - 7s 5ms/step - loss: 1.4802 - accuracy: 0.4714 - val_loss: 1.5315 - val_accuracy: 0.4518\n",
      "Epoch 8/50\n",
      "1355/1355 [==============================] - 7s 5ms/step - loss: 1.4534 - accuracy: 0.4807 - val_loss: 1.5220 - val_accuracy: 0.4637\n",
      "Epoch 9/50\n",
      "1355/1355 [==============================] - 8s 6ms/step - loss: 1.4299 - accuracy: 0.4875 - val_loss: 1.5968 - val_accuracy: 0.4383\n",
      "Epoch 10/50\n",
      "1355/1355 [==============================] - 6s 4ms/step - loss: 1.4101 - accuracy: 0.4973 - val_loss: 1.4817 - val_accuracy: 0.4762\n",
      "Epoch 11/50\n",
      "1355/1355 [==============================] - 8s 6ms/step - loss: 1.3909 - accuracy: 0.5035 - val_loss: 1.5058 - val_accuracy: 0.4744\n",
      "Epoch 12/50\n",
      "1355/1355 [==============================] - 6s 5ms/step - loss: 1.3718 - accuracy: 0.5093 - val_loss: 1.5273 - val_accuracy: 0.4635\n",
      "Epoch 13/50\n",
      "1355/1355 [==============================] - 8s 6ms/step - loss: 1.3565 - accuracy: 0.5172 - val_loss: 1.4873 - val_accuracy: 0.4740\n",
      "Epoch 14/50\n",
      "1355/1355 [==============================] - 7s 5ms/step - loss: 1.3405 - accuracy: 0.5222 - val_loss: 1.4678 - val_accuracy: 0.4838\n",
      "Epoch 15/50\n",
      "1355/1355 [==============================] - 8s 6ms/step - loss: 1.3229 - accuracy: 0.5304 - val_loss: 1.4910 - val_accuracy: 0.4746\n",
      "Epoch 16/50\n",
      "1355/1355 [==============================] - 6s 4ms/step - loss: 1.3097 - accuracy: 0.5333 - val_loss: 1.4272 - val_accuracy: 0.4940\n",
      "Epoch 17/50\n",
      "1355/1355 [==============================] - 7s 5ms/step - loss: 1.2977 - accuracy: 0.5376 - val_loss: 1.4720 - val_accuracy: 0.4856\n",
      "Epoch 18/50\n",
      "1355/1355 [==============================] - 6s 4ms/step - loss: 1.2814 - accuracy: 0.5440 - val_loss: 1.4509 - val_accuracy: 0.4875\n",
      "Epoch 19/50\n",
      "1355/1355 [==============================] - 7s 5ms/step - loss: 1.2733 - accuracy: 0.5469 - val_loss: 1.4463 - val_accuracy: 0.4922\n",
      "Epoch 20/50\n",
      "1355/1355 [==============================] - 6s 4ms/step - loss: 1.2572 - accuracy: 0.5524 - val_loss: 1.4684 - val_accuracy: 0.4901\n",
      "Epoch 21/50\n",
      "1355/1355 [==============================] - 7s 5ms/step - loss: 1.2488 - accuracy: 0.5554 - val_loss: 1.4508 - val_accuracy: 0.4941\n",
      "Epoch 22/50\n",
      "1355/1355 [==============================] - 6s 4ms/step - loss: 1.2351 - accuracy: 0.5602 - val_loss: 1.4634 - val_accuracy: 0.4822\n",
      "Epoch 23/50\n",
      "1355/1355 [==============================] - 7s 5ms/step - loss: 1.2256 - accuracy: 0.5620 - val_loss: 1.4263 - val_accuracy: 0.4990\n",
      "Epoch 24/50\n",
      "1355/1355 [==============================] - 6s 4ms/step - loss: 1.2119 - accuracy: 0.5692 - val_loss: 1.5548 - val_accuracy: 0.4682\n",
      "Epoch 25/50\n",
      "1355/1355 [==============================] - 7s 6ms/step - loss: 1.2052 - accuracy: 0.5702 - val_loss: 1.4795 - val_accuracy: 0.4817\n",
      "Epoch 26/50\n",
      "1355/1355 [==============================] - 6s 4ms/step - loss: 1.1922 - accuracy: 0.5749 - val_loss: 1.4739 - val_accuracy: 0.4834\n",
      "Epoch 27/50\n",
      "1355/1355 [==============================] - 7s 5ms/step - loss: 1.1822 - accuracy: 0.5794 - val_loss: 1.4997 - val_accuracy: 0.4771\n",
      "Epoch 28/50\n",
      "1355/1355 [==============================] - 6s 4ms/step - loss: 1.1723 - accuracy: 0.5829 - val_loss: 1.4938 - val_accuracy: 0.4884\n",
      "Epoch 29/50\n",
      "1355/1355 [==============================] - 7s 5ms/step - loss: 1.1627 - accuracy: 0.5834 - val_loss: 1.4319 - val_accuracy: 0.4924\n",
      "Epoch 30/50\n",
      "1355/1355 [==============================] - 6s 5ms/step - loss: 1.1523 - accuracy: 0.5862 - val_loss: 1.4670 - val_accuracy: 0.4905\n",
      "Epoch 31/50\n",
      "1355/1355 [==============================] - 6s 5ms/step - loss: 1.1480 - accuracy: 0.5926 - val_loss: 1.5172 - val_accuracy: 0.4712\n",
      "Epoch 32/50\n",
      "1355/1355 [==============================] - 6s 5ms/step - loss: 1.1328 - accuracy: 0.5960 - val_loss: 1.4240 - val_accuracy: 0.5081\n",
      "Epoch 33/50\n",
      "1355/1355 [==============================] - 7s 5ms/step - loss: 1.1246 - accuracy: 0.5974 - val_loss: 1.4375 - val_accuracy: 0.5025\n",
      "Epoch 34/50\n",
      "1355/1355 [==============================] - 7s 5ms/step - loss: 1.1174 - accuracy: 0.6005 - val_loss: 1.4274 - val_accuracy: 0.5059\n",
      "Epoch 35/50\n",
      "1355/1355 [==============================] - 7s 5ms/step - loss: 1.1066 - accuracy: 0.6046 - val_loss: 1.4528 - val_accuracy: 0.5048\n",
      "Epoch 36/50\n",
      "1355/1355 [==============================] - 6s 5ms/step - loss: 1.1002 - accuracy: 0.6068 - val_loss: 1.4553 - val_accuracy: 0.5034\n",
      "Epoch 37/50\n",
      "1355/1355 [==============================] - 6s 4ms/step - loss: 1.0932 - accuracy: 0.6094 - val_loss: 1.4192 - val_accuracy: 0.5124\n",
      "Epoch 38/50\n",
      "1355/1355 [==============================] - 8s 6ms/step - loss: 1.0842 - accuracy: 0.6145 - val_loss: 1.4269 - val_accuracy: 0.5128\n",
      "Epoch 39/50\n",
      "1355/1355 [==============================] - 7s 5ms/step - loss: 1.0759 - accuracy: 0.6146 - val_loss: 1.4393 - val_accuracy: 0.5056\n",
      "Epoch 40/50\n",
      "1355/1355 [==============================] - 7s 5ms/step - loss: 1.0682 - accuracy: 0.6205 - val_loss: 1.4978 - val_accuracy: 0.4918\n",
      "Epoch 41/50\n",
      "1355/1355 [==============================] - 8s 6ms/step - loss: 1.0595 - accuracy: 0.6213 - val_loss: 1.4593 - val_accuracy: 0.5027\n",
      "Epoch 42/50\n",
      "1355/1355 [==============================] - 7s 5ms/step - loss: 1.0551 - accuracy: 0.6240 - val_loss: 1.5125 - val_accuracy: 0.4912\n",
      "Epoch 43/50\n",
      "1355/1355 [==============================] - 8s 6ms/step - loss: 1.0448 - accuracy: 0.6268 - val_loss: 1.4804 - val_accuracy: 0.5064\n",
      "Epoch 44/50\n",
      "1355/1355 [==============================] - 7s 5ms/step - loss: 1.0402 - accuracy: 0.6303 - val_loss: 1.4696 - val_accuracy: 0.5098\n",
      "Epoch 45/50\n",
      "1355/1355 [==============================] - 9s 7ms/step - loss: 1.0301 - accuracy: 0.6307 - val_loss: 1.4346 - val_accuracy: 0.5144\n",
      "Epoch 46/50\n",
      "1355/1355 [==============================] - 6s 5ms/step - loss: 1.0248 - accuracy: 0.6337 - val_loss: 1.4806 - val_accuracy: 0.5084\n",
      "Epoch 47/50\n",
      "1355/1355 [==============================] - 8s 6ms/step - loss: 1.0191 - accuracy: 0.6361 - val_loss: 1.4695 - val_accuracy: 0.5065\n",
      "Epoch 48/50\n",
      "1355/1355 [==============================] - 7s 5ms/step - loss: 1.0110 - accuracy: 0.6384 - val_loss: 1.4559 - val_accuracy: 0.5139\n",
      "Epoch 49/50\n",
      "1355/1355 [==============================] - 7s 5ms/step - loss: 1.0031 - accuracy: 0.6423 - val_loss: 1.4872 - val_accuracy: 0.5080\n",
      "Epoch 50/50\n",
      "1355/1355 [==============================] - 7s 5ms/step - loss: 0.9973 - accuracy: 0.6445 - val_loss: 1.5290 - val_accuracy: 0.4939\n"
     ]
    }
   ],
   "source": [
    "hist = model.fit(X_train,y_train, epochs=50 , validation_split=0.15)"
   ]
  },
  {
   "cell_type": "code",
   "execution_count": 21,
   "metadata": {
    "colab": {
     "base_uri": "https://localhost:8080/"
    },
    "id": "s5vaLrcITuPn",
    "outputId": "f3a98770-1d90-4843-a205-02584245a707"
   },
   "outputs": [
    {
     "name": "stderr",
     "output_type": "stream",
     "text": [
      "/usr/local/lib/python3.10/dist-packages/keras/src/engine/training.py:3103: UserWarning: You are saving your model as an HDF5 file via `model.save()`. This file format is considered legacy. We recommend using instead the native Keras format, e.g. `model.save('my_model.keras')`.\n",
      "  saving_api.save_model(\n"
     ]
    }
   ],
   "source": [
    "model.save(\"my_first_model.h5\")"
   ]
  },
  {
   "cell_type": "code",
   "execution_count": 22,
   "metadata": {
    "colab": {
     "base_uri": "https://localhost:8080/"
    },
    "id": "6eCvql-CQlZV",
    "outputId": "6ea90e06-8dfe-4a60-88b8-81f0825aa506"
   },
   "outputs": [
    {
     "name": "stdout",
     "output_type": "stream",
     "text": [
      "282/282 [==============================] - 1s 4ms/step - loss: 1.5056 - accuracy: 0.4987\n"
     ]
    },
    {
     "data": {
      "text/plain": [
       "[1.5055724382400513, 0.4986666738986969]"
      ]
     },
     "execution_count": 22,
     "metadata": {},
     "output_type": "execute_result"
    }
   ],
   "source": [
    "model.evaluate(X_test,y_test)"
   ]
  },
  {
   "cell_type": "code",
   "execution_count": 32,
   "metadata": {
    "colab": {
     "base_uri": "https://localhost:8080/"
    },
    "id": "TzvDUdlPJObt",
    "outputId": "7e8b154d-df24-4e6b-ba57-f82e5dc09ff8"
   },
   "outputs": [
    {
     "name": "stdout",
     "output_type": "stream",
     "text": [
      "282/282 [==============================] - 1s 3ms/step\n"
     ]
    }
   ],
   "source": [
    "y_pred = model.predict(X_test)"
   ]
  },
  {
   "cell_type": "code",
   "execution_count": 23,
   "metadata": {
    "colab": {
     "base_uri": "https://localhost:8080/"
    },
    "id": "gpuwLs9dRYca",
    "outputId": "7665d8a9-b877-443c-eb4b-fe3464c75cd6"
   },
   "outputs": [
    {
     "name": "stdout",
     "output_type": "stream",
     "text": [
      "dict_keys(['loss', 'accuracy', 'val_loss', 'val_accuracy'])\n"
     ]
    }
   ],
   "source": [
    "print(hist.history.keys())"
   ]
  },
  {
   "cell_type": "code",
   "execution_count": 24,
   "metadata": {
    "id": "uyBd1HWaUgrV"
   },
   "outputs": [],
   "source": [
    "import matplotlib.pyplot as plt"
   ]
  },
  {
   "cell_type": "code",
   "execution_count": 25,
   "metadata": {
    "colab": {
     "base_uri": "https://localhost:8080/",
     "height": 472
    },
    "id": "jZiKqNETUw15",
    "outputId": "efcd6979-7c24-4a82-c6db-7e3fd090f1ea"
   },
   "outputs": [
    {
     "data": {
      "image/png": "[encoded data removed]",
      "text/plain": [
       "<Figure size 640x480 with 1 Axes>"
      ]
     },
     "metadata": {},
     "output_type": "display_data"
    }
   ],
   "source": [
    "plt.plot(hist.history['accuracy'])\n",
    "plt.plot(hist.history['val_accuracy'])\n",
    "plt.title('model accuracy')\n",
    "plt.ylabel('accuracy')\n",
    "plt.xlabel('epoch')\n",
    "plt.legend(['train', 'test'], loc='upper left')\n",
    "plt.show()"
   ]
  },
  {
   "cell_type": "code",
   "execution_count": 26,
   "metadata": {
    "colab": {
     "base_uri": "https://localhost:8080/",
     "height": 472
    },
    "id": "glefL4QyU3CH",
    "outputId": "41aff7c6-8ad0-454e-dd97-68f010213b35"
   },
   "outputs": [
    {
     "data": {
      "image/png": "[encoded data removed]",
      "text/plain": [
       "<Figure size 640x480 with 1 Axes>"
      ]
     },
     "metadata": {},
     "output_type": "display_data"
    }
   ],
   "source": [
    "plt.plot(hist.history['loss'])\n",
    "plt.plot(hist.history['val_loss'])\n",
    "plt.title('model loss')\n",
    "plt.ylabel('loss')\n",
    "plt.xlabel('epoch')\n",
    "plt.legend(['train', 'test'], loc='upper left')\n",
    "plt.show()"
   ]
  },
  {
   "cell_type": "code",
   "execution_count": 19,
   "metadata": {
    "id": "cfkeZbsWVMgY"
   },
   "outputs": [],
   "source": [
    "!pip install keras-tuner -q\n",
    "import keras_tuner"
   ]
  },
  {
   "cell_type": "code",
   "execution_count": 20,
   "metadata": {
    "id": "Qi-5BVVxZx6V"
   },
   "outputs": [],
   "source": [
    "from keras import layers"
   ]
  },
  {
   "cell_type": "code",
   "execution_count": 21,
   "metadata": {
    "colab": {
     "base_uri": "https://localhost:8080/"
    },
    "id": "YGC46k_BV9j6",
    "outputId": "208ad238-7413-4285-c4d6-7fdd0c8f33d1"
   },
   "outputs": [
    {
     "data": {
      "text/plain": [
       "<keras.src.engine.sequential.Sequential at 0x7d459180cd30>"
      ]
     },
     "execution_count": 21,
     "metadata": {},
     "output_type": "execute_result"
    }
   ],
   "source": [
    "def build_model(hp):\n",
    "    model = keras.Sequential()\n",
    "    model.add(layers.Flatten())\n",
    "    # Tune the number of layers.\n",
    "    for i in range(hp.Int(\"num_layers\", 1, 3)):\n",
    "        model.add(\n",
    "            layers.Dense(\n",
    "                # Tune number of units separately.\n",
    "                units=hp.Int(f\"units_{i}\", min_value=32, max_value=512, step=32),\n",
    "                activation=hp.Choice(\"activation\", [\"relu\", \"tanh\"]),\n",
    "            )\n",
    "        )\n",
    "    if hp.Boolean(\"dropout\"):\n",
    "        model.add(layers.Dropout(rate=0.25))\n",
    "    model.add(layers.Dense(10, activation=\"softmax\"))\n",
    "    learning_rate = hp.Float(\"lr\", min_value=1e-4, max_value=1e-2, sampling=\"log\")\n",
    "    model.compile(\n",
    "        optimizer=keras.optimizers.Adam(learning_rate=learning_rate),\n",
    "        loss=\"categorical_crossentropy\",\n",
    "        metrics=[\"accuracy\"],\n",
    "    )\n",
    "    return model\n",
    "\n",
    "\n",
    "build_model(keras_tuner.HyperParameters())"
   ]
  },
  {
   "cell_type": "code",
   "execution_count": 22,
   "metadata": {
    "id": "R3QLmfA9ZVIj"
   },
   "outputs": [],
   "source": [
    "tuner = keras_tuner.RandomSearch(\n",
    "    hypermodel=build_model,\n",
    "    objective=\"val_accuracy\",\n",
    "    max_trials=3,\n",
    "    executions_per_trial=2,\n",
    "    overwrite=True,\n",
    "    directory=\"my_dir\",\n",
    "    project_name=\"helloworld\",\n",
    ")"
   ]
  },
  {
   "cell_type": "code",
   "execution_count": 23,
   "metadata": {
    "id": "uyX92CD4aRlF"
   },
   "outputs": [],
   "source": [
    "x_train = X_train[:45000]\n",
    "x_val = X_train[45000:]\n",
    "y_tr = y_train[:45000]\n",
    "y_val = y_train[45000:]"
   ]
  },
  {
   "cell_type": "code",
   "execution_count": 24,
   "metadata": {
    "colab": {
     "base_uri": "https://localhost:8080/"
    },
    "id": "7m6JA2EK850c",
    "outputId": "9b0efdd9-a879-4ce8-e73b-f929a25b6a14"
   },
   "outputs": [
    {
     "data": {
      "text/plain": [
       "(6000, 32, 32, 3)"
      ]
     },
     "execution_count": 24,
     "metadata": {},
     "output_type": "execute_result"
    }
   ],
   "source": [
    "x_val.shape"
   ]
  },
  {
   "cell_type": "code",
   "execution_count": 25,
   "metadata": {
    "colab": {
     "base_uri": "https://localhost:8080/"
    },
    "id": "oYdRSLCHcQHa",
    "outputId": "dd1ef15c-e871-48e5-9877-fea7239e2b6a"
   },
   "outputs": [
    {
     "name": "stdout",
     "output_type": "stream",
     "text": [
      "Trial 3 Complete [00h 02m 50s]\n",
      "val_accuracy: 0.3764999955892563\n",
      "\n",
      "Best val_accuracy So Far: 0.3779999911785126\n",
      "Total elapsed time: 00h 06m 03s\n"
     ]
    }
   ],
   "source": [
    "tuner.search(x_train, y_tr, epochs=2, validation_data=(x_val, y_val))"
   ]
  },
  {
   "cell_type": "code",
   "execution_count": 27,
   "metadata": {
    "id": "JrEN22ugcVnf"
   },
   "outputs": [],
   "source": [
    "best_model = tuner.get_best_models()[0]"
   ]
  },
  {
   "cell_type": "code",
   "execution_count": 29,
   "metadata": {
    "colab": {
     "base_uri": "https://localhost:8080/"
    },
    "id": "Nh7xj72jEzJn",
    "outputId": "6a96f62b-2059-41ed-fd25-8135163fbc19"
   },
   "outputs": [
    {
     "data": {
      "text/plain": [
       "<keras.src.engine.sequential.Sequential at 0x7d4506ecaef0>"
      ]
     },
     "execution_count": 29,
     "metadata": {},
     "output_type": "execute_result"
    }
   ],
   "source": [
    "best_model"
   ]
  },
  {
   "cell_type": "code",
   "execution_count": 30,
   "metadata": {
    "colab": {
     "base_uri": "https://localhost:8080/"
    },
    "id": "34Grd59MFLGu",
    "outputId": "e72498af-7e05-4e6a-d1e2-8db29e84cf2e"
   },
   "outputs": [
    {
     "name": "stdout",
     "output_type": "stream",
     "text": [
      "Results summary\n",
      "Results in my_dir/helloworld\n",
      "Showing 10 best trials\n",
      "Objective(name=\"val_accuracy\", direction=\"max\")\n",
      "\n",
      "Trial 0 summary\n",
      "Hyperparameters:\n",
      "num_layers: 2\n",
      "units_0: 64\n",
      "activation: relu\n",
      "dropout: False\n",
      "lr: 0.00044155083635231995\n",
      "units_1: 32\n",
      "Score: 0.3779999911785126\n",
      "\n",
      "Trial 2 summary\n",
      "Hyperparameters:\n",
      "num_layers: 3\n",
      "units_0: 512\n",
      "activation: tanh\n",
      "dropout: False\n",
      "lr: 0.00028018589905574664\n",
      "units_1: 352\n",
      "units_2: 32\n",
      "Score: 0.3764999955892563\n",
      "\n",
      "Trial 1 summary\n",
      "Hyperparameters:\n",
      "num_layers: 2\n",
      "units_0: 352\n",
      "activation: tanh\n",
      "dropout: False\n",
      "lr: 0.00857899245397964\n",
      "units_1: 448\n",
      "Score: 0.10008333250880241\n"
     ]
    }
   ],
   "source": [
    "tuner.results_summary()"
   ]
  },
  {
   "cell_type": "code",
   "execution_count": 35,
   "metadata": {
    "colab": {
     "base_uri": "https://localhost:8080/"
    },
    "id": "u239tvNDKGDK",
    "outputId": "ffba1f05-b4df-4243-a722-2216b08ae9b7"
   },
   "outputs": [
    {
     "data": {
      "text/plain": [
       "(9000, 10)"
      ]
     },
     "execution_count": 35,
     "metadata": {},
     "output_type": "execute_result"
    }
   ],
   "source": [
    "y_test.shape"
   ]
  },
  {
   "cell_type": "code",
   "execution_count": 36,
   "metadata": {
    "colab": {
     "base_uri": "https://localhost:8080/"
    },
    "id": "6XEM8WNSKKs3",
    "outputId": "cf3f3096-c2f3-4344-fd8e-457b527a7ad5"
   },
   "outputs": [
    {
     "data": {
      "text/plain": [
       "(9000, 10)"
      ]
     },
     "execution_count": 36,
     "metadata": {},
     "output_type": "execute_result"
    }
   ],
   "source": [
    "y_pred.shape"
   ]
  },
  {
   "cell_type": "code",
   "execution_count": null,
   "metadata": {
    "id": "qpRVfJatJywS"
   },
   "outputs": [],
   "source": []
  }
 ],
 "metadata": {
  "colab": {
   "provenance": []
  },
  "kernelspec": {
   "display_name": "Python 3 (ipykernel)",
   "language": "python",
   "name": "python3"
  },
  "language_info": {
   "codemirror_mode": {
    "name": "ipython",
    "version": 3
   },
   "file_extension": ".py",
   "mimetype": "text/x-python",
   "name": "python",
   "nbconvert_exporter": "python",
   "pygments_lexer": "ipython3",
   "version": "3.11.4"
  }
 },
 "nbformat": 4,
 "nbformat_minor": 1
}
